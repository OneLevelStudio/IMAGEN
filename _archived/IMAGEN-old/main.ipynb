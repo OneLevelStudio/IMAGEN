{
 "cells": [
  {
   "cell_type": "code",
   "execution_count": null,
   "id": "f581fcda",
   "metadata": {},
   "outputs": [],
   "source": [
    "import requests\n",
    "import base64"
   ]
  },
  {
   "cell_type": "code",
   "execution_count": null,
   "id": "4f841303",
   "metadata": {},
   "outputs": [],
   "source": [
    "url = \"http://127.0.0.1:7860/sdapi/v1/txt2img\"\n",
    "payload = { \"prompt\": \"a man, athletic body, black suit, black pants, taking a mirror selfie, plain dark wall, dim lighting, dark vibe\", \"negative_prompt\": \"\", \"styles\": [], \"seed\": 712089985, \"subseed\": -1, \"subseed_strength\": 0, \"seed_resize_from_h\": -1, \"seed_resize_from_w\": -1, \"sampler_name\": \"DPM++ 2M SDE\", \"scheduler\": \"Karras\", \"batch_size\": 1, \"n_iter\": 1, \"steps\": 20, \"cfg_scale\": 2.5, \"distilled_cfg_scale\": 3.5, \"width\": 896, \"height\": 1152, \"restore_faces\": False, \"tiling\": False, \"do_not_save_samples\": False, \"do_not_save_grid\": False, \"denoising_strength\": 0.7, \"s_min_uncond\": 0, \"s_churn\": 0, \"s_tmax\": 0, \"s_tmin\": 0, \"s_noise\": 1, \"override_settings\": {\"sd_model_checkpoint\": \"LVSTIFY_V5.0\", \"CLIP_stop_at_last_layers\": 1}, \"override_settings_restore_afterwards\": False, \"disable_extra_networks\": False, \"comments\": {}, \"enable_hr\": False, \"hr_scale\": 2, \"hr_upscaler\": \"Latent\", \"hr_second_pass_steps\": 0, \"hr_resize_x\": 0, \"hr_resize_y\": 0, \"hr_additional_modules\": [\"Use same choices\"], \"hr_prompt\": \"\", \"hr_negative_prompt\": \"\", \"hr_cfg\": 5, \"hr_distilled_cfg\": 3.5, \"script_name\": \"\", \"script_args\": [], \"seed_enable_extras\": True, \"alwayson_scripts\": {}, }"
   ]
  },
  {
   "cell_type": "code",
   "execution_count": null,
   "id": "85c77fb5",
   "metadata": {},
   "outputs": [],
   "source": [
    "with requests.post(url=url, json=payload) as req:\n",
    "    with open(\"test_output.jpg\", \"wb\") as f:\n",
    "        f.write(base64.b64decode(req.json()[\"images\"][0]))"
   ]
  }
 ],
 "metadata": {
  "kernelspec": {
   "display_name": "venv",
   "language": "python",
   "name": "python3"
  },
  "language_info": {
   "codemirror_mode": {
    "name": "ipython",
    "version": 3
   },
   "file_extension": ".py",
   "mimetype": "text/x-python",
   "name": "python",
   "nbconvert_exporter": "python",
   "pygments_lexer": "ipython3",
   "version": "3.11.3"
  }
 },
 "nbformat": 4,
 "nbformat_minor": 5
}
