{
 "cells": [
  {
   "cell_type": "code",
   "execution_count": null,
   "metadata": {},
   "outputs": [],
   "source": [
    "from random import choice as RD1\n",
    "from random import sample as RD2\n",
    "from datetime import datetime\n",
    "import requests\n",
    "import base64\n",
    "import time\n",
    "import csv\n",
    "import os\n",
    "\n",
    "batch_name = \"batch003\"\n",
    "os.makedirs(f\"output/{batch_name}\", exist_ok=True)"
   ]
  },
  {
   "cell_type": "code",
   "execution_count": null,
   "metadata": {},
   "outputs": [],
   "source": [
    "def generate_prompt():\n",
    "    return \", \".join([e for e in [\n",
    "    RD1(['', 'candid photo', 'amateur photo']),\n",
    "    RD1(['a man', 'a young man', 'a 25 years old man']),\n",
    "    RD1(['toned body', 'fit body', 'defined body', 'athletic body', 'solid body', 'muscular body']),\n",
    "\n",
    "    # RD1(['', 'asian skin']),\n",
    "    RD1(['', 'asian', 'asian skin', 'asian skin', 'asian skin']),\n",
    "\n",
    "    # wearing\n",
    "    RD1([\n",
    "        # RD1(['black suit, black pants']),\n",
    "        # RD1(['black dress shirt, black pants', 'black dress shirt, black pants, black belt']),\n",
    "        # RD1(['black tight shirt, grey baggy pants', 'black tight shirt, grey loose sweatpants']),\n",
    "        RD1(['topless, grey loose sweatpants', 'topless, grey baggy pants']),\n",
    "        # RD1(['topless, grey tight boxer', 'topless, grey tight shorts']),\n",
    "        # 'sexy, '+RD1(['penis', 'dick', 'cock', 'big penis', 'big dick', 'big cock', 'huge penis', 'huge dick', 'huge cock']),\n",
    "        # 'nude, '+RD1(['penis', 'dick', 'cock', 'big penis', 'big dick', 'big cock', 'huge penis', 'huge dick', 'huge cock']),\n",
    "    ]),\n",
    "\n",
    "    RD1(['taking mirror selfie', 'taking a mirror selfie']),\n",
    "    RD1(['plain black wall', 'plain dark wall']),\n",
    "    RD1(['soft lighting', 'dim lighting', 'low lighting']),\n",
    "    RD1(['', 'film grain']),\n",
    "    RD1(['', 'dark aesthetic', 'dark vibe', 'dark mafia vibe', 'dark romance vibe']),\n",
    "    ] if e != ''])\n",
    "generate_prompt()"
   ]
  },
  {
   "cell_type": "code",
   "execution_count": null,
   "metadata": {},
   "outputs": [],
   "source": [
    "payload = {\"alwayson_scripts\": {}, \"batch_size\": 1, \"comments\": {}, \"denoising_strength\": 0.7, \"disable_extra_networks\": False, \"distilled_cfg_scale\": 3.5, \"do_not_save_grid\": False, \"do_not_save_samples\": False, \"enable_hr\": False, \"hr_additional_modules\": [\"Use same choices\"], \"hr_cfg\": 5, \"hr_distilled_cfg\": 3.5, \"hr_negative_prompt\": \"\", \"hr_prompt\": \"\", \"hr_resize_x\": 0, \"hr_resize_y\": 0, \"hr_scale\": 2, \"hr_second_pass_steps\": 0, \"hr_upscaler\": \"Latent\", \"n_iter\": 1, \"override_settings_restore_afterwards\": False, \"prompt\": \"candid photo, amateur photo, iphone selfie, sexy man, abs, penis, shirt lift, dim dark room, low light, film grain\", \"restore_faces\": False, \"s_churn\": 0.0, \"s_min_uncond\": 0.0, \"s_noise\": 1.0, \"s_tmax\": 0, \"s_tmin\": 0.0, \"script_args\": [], \"script_name\": \"\", \"seed\": 2812549172, \"seed_enable_extras\": True, \"seed_resize_from_h\": -1, \"seed_resize_from_w\": -1, \"steps\": 25, \"styles\": [], \"subseed\": -1, \"subseed_strength\": 0, \"tiling\": False, \"negative_prompt\": \"\", \"width\": 896, \"height\": 1152, \"cfg_scale\": 2.5, \"sampler_name\": \"DPM++ 2M SDE\", \"scheduler\": \"Karras\", \"override_settings\": {\"sd_model_checkpoint\": \"LVSTIFY_V5.0\", \"CLIP_stop_at_last_layers\": 1}}"
   ]
  },
  {
   "cell_type": "code",
   "execution_count": null,
   "metadata": {},
   "outputs": [],
   "source": [
    "error_count = 0\n",
    "\n",
    "generations = []\n",
    "for _ in range(500):\n",
    "    try:\n",
    "        payload[\"prompt\"] = generate_prompt()\n",
    "        payload[\"seed\"] = -1\n",
    "        payload[\"cfg_scale\"] = RD1([2.5, 3.0, 3.5])\n",
    "        payload[\"steps\"] = RD1([20, 25, 30])\n",
    "        filename = f\"output/{batch_name}/{datetime.now().strftime('%y%m%d%H%M%S')}.jpg\"\n",
    "        generations.append({\n",
    "            \"filename\": filename,\n",
    "            \"prompt\": payload[\"prompt\"],\n",
    "            \"cfg_scale\": payload[\"cfg_scale\"],\n",
    "            \"steps\": payload[\"steps\"],\n",
    "        })\n",
    "        with requests.post(url=\"http://127.0.0.1:7860/sdapi/v1/txt2img\", json=payload) as req:\n",
    "            with open(filename, \"wb\") as f:\n",
    "                f.write(base64.b64decode(req.json()[\"images\"][0]))\n",
    "            with open(f\"output/{batch_name}.csv\", mode='w', newline='', encoding='utf-8') as f:\n",
    "                writer = csv.DictWriter(f, fieldnames=generations[0].keys())\n",
    "                writer.writeheader()\n",
    "                writer.writerows(generations)\n",
    "            time.sleep(10)\n",
    "    except Exception as e:\n",
    "        print(f\"Error > {e}\")\n",
    "        error_count += 1\n",
    "        if error_count == 10:\n",
    "            break"
   ]
  }
 ],
 "metadata": {
  "kernelspec": {
   "display_name": "venv",
   "language": "python",
   "name": "python3"
  },
  "language_info": {
   "codemirror_mode": {
    "name": "ipython",
    "version": 3
   },
   "file_extension": ".py",
   "mimetype": "text/x-python",
   "name": "python",
   "nbconvert_exporter": "python",
   "pygments_lexer": "ipython3",
   "version": "3.10.10"
  }
 },
 "nbformat": 4,
 "nbformat_minor": 2
}
