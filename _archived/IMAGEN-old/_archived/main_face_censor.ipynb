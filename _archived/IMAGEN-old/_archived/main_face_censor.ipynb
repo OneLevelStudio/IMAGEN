{
 "cells": [
  {
   "cell_type": "code",
   "execution_count": null,
   "id": "0d4318e1",
   "metadata": {},
   "outputs": [],
   "source": [
    "from deepface import DeepFace\n",
    "import csv\n",
    "import cv2\n",
    "import os\n",
    "\n",
    "def show_ocv(img):\n",
    "    import matplotlib.pyplot as plt\n",
    "    # plt.figure(figsize=(20, 20))\n",
    "    plt.imshow(cv2.cvtColor(img, cv2.COLOR_BGR2RGB)); plt.axis('off'); plt.show()\n",
    "\n",
    "def xywh2xyxy(x, y, w, h):\n",
    "    x1 = x\n",
    "    y1 = y\n",
    "    x2 = x + w\n",
    "    y2 = y + h\n",
    "    return x1, y1, x2, y2\n",
    "\n",
    "def makedir(fir_path):\n",
    "    os.makedirs(fir_path, exist_ok=True)"
   ]
  },
  {
   "cell_type": "code",
   "execution_count": null,
   "id": "8a39f8ab",
   "metadata": {},
   "outputs": [],
   "source": [
    "batch_name = \"batch003\"\n",
    "makedir(f\"output/{batch_name}_noface\")\n",
    "\n",
    "with open(f\"output/{batch_name}.csv\", newline=\"\", encoding=\"utf-8\") as f:\n",
    "    batch_data = [e for e in csv.DictReader(f)]\n",
    "# batch_data"
   ]
  },
  {
   "cell_type": "code",
   "execution_count": null,
   "id": "7412399a",
   "metadata": {},
   "outputs": [],
   "source": [
    "for i in range(len(batch_data)):\n",
    "    # if i == 4:\n",
    "        filename = batch_data[i][\"filename\"]\n",
    "        img = cv2.imread(filename)\n",
    "        dfaces = []\n",
    "        try:\n",
    "            dfaces = DeepFace.extract_faces(filename, enforce_detection=True, detector_backend=\"mtcnn\")\n",
    "        except:\n",
    "            pass\n",
    "        for e in dfaces:\n",
    "            x = e[\"facial_area\"][\"x\"]\n",
    "            y = e[\"facial_area\"][\"y\"]\n",
    "            w = e[\"facial_area\"][\"w\"]\n",
    "            h = e[\"facial_area\"][\"h\"]\n",
    "            x1,y1,x2,y2 = xywh2xyxy(x, y, w, h)\n",
    "            cv2.rectangle(img, (x1,y1), (x2,y2), (128,128,128), -1)\n",
    "        cv2.imwrite(filename.replace(batch_name, f\"{batch_name}_noface\"), img)"
   ]
  }
 ],
 "metadata": {
  "kernelspec": {
   "display_name": "venv",
   "language": "python",
   "name": "python3"
  },
  "language_info": {
   "codemirror_mode": {
    "name": "ipython",
    "version": 3
   },
   "file_extension": ".py",
   "mimetype": "text/x-python",
   "name": "python",
   "nbconvert_exporter": "python",
   "pygments_lexer": "ipython3",
   "version": "3.10.10"
  }
 },
 "nbformat": 4,
 "nbformat_minor": 5
}
