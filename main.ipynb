{
 "cells": [
  {
   "cell_type": "code",
   "execution_count": 1,
   "id": "f581fcda",
   "metadata": {},
   "outputs": [],
   "source": [
    "from random import choice as random_choice\n",
    "from datetime import datetime\n",
    "import requests\n",
    "import base64\n",
    "import os\n",
    "\n",
    "os.makedirs(f\"_output\", exist_ok=True)"
   ]
  },
  {
   "cell_type": "code",
   "execution_count": 2,
   "id": "4f841303",
   "metadata": {},
   "outputs": [],
   "source": [
    "url = \"http://127.0.0.1:1234/sdapi/v1/txt2img\"\n",
    "# url = \"https://5ha8oqpokvkx2e-3000.proxy.runpod.net/sdapi/v1/txt2img\"\n",
    "payload = { \"prompt\": \"amateur photo, a young man, toned body, (asian skin:1.5), topless, grey loose sweatpants, holding black phone, taking mirror selfie, plain dark wall, dark room, soft lighting, dark aesthetic, <lora:LORA_GHOST:0.75>, skeleton mask, call of duty, black hood\", \"negative_prompt\": \"\", \"styles\": [], \"seed\": 1234567890, \"subseed\": -1, \"subseed_strength\": 0, \"seed_resize_from_h\": -1, \"seed_resize_from_w\": -1, \"sampler_name\": \"DPM++ 2M SDE\", \"scheduler\": \"Karras\", \"batch_size\": 1, \"n_iter\": 1, \"steps\": 20, \"cfg_scale\": 2.5, \"distilled_cfg_scale\": 3.5, \"width\": 896, \"height\": 1152, \"restore_faces\": False, \"tiling\": False, \"do_not_save_samples\": False, \"do_not_save_grid\": False, \"denoising_strength\": 0.7, \"s_min_uncond\": 0, \"s_churn\": 0, \"s_tmax\": 0, \"s_tmin\": 0, \"s_noise\": 1, \"override_settings\": {\"sd_model_checkpoint\": \"LVSTIFY_V5.0\", \"CLIP_stop_at_last_layers\": 1}, \"override_settings_restore_afterwards\": False, \"disable_extra_networks\": False, \"comments\": {}, \"enable_hr\": False, \"hr_scale\": 2, \"hr_upscaler\": \"Latent\", \"hr_second_pass_steps\": 0, \"hr_resize_x\": 0, \"hr_resize_y\": 0, \"hr_additional_modules\": [\"Use same choices\"], \"hr_prompt\": \"\", \"hr_negative_prompt\": \"\", \"hr_cfg\": 5, \"hr_distilled_cfg\": 3.5, \"script_name\": \"\", \"script_args\": [], \"seed_enable_extras\": True, \"alwayson_scripts\": {}, }\n",
    "def generate(payload, savepath):\n",
    "    try:\n",
    "        with requests.post(url=url, json=payload) as req:\n",
    "            with open(savepath, \"wb\") as f:\n",
    "                f.write(base64.b64decode(req.json()[\"images\"][0]))\n",
    "    except Exception as e:\n",
    "        print(f\"⚠️ Error > {e}\")"
   ]
  },
  {
   "cell_type": "code",
   "execution_count": 3,
   "id": "85c77fb5",
   "metadata": {},
   "outputs": [],
   "source": [
    "for _ in range(3):\n",
    "    savepath = f\"_output/{datetime.now().strftime('%y%m%d%H%M%S')}.jpg\"\n",
    "    payload[\"prompt\"] = \"amateur photo, a young man, toned body, (asian skin:1.5), topless, grey loose sweatpants, holding black phone, taking mirror selfie, plain dark wall, dark room, soft lighting, dark aesthetic, <lora:LORA_GHOST:0.75>, skeleton mask, call of duty, black hood\"\n",
    "    payload[\"seed\"] = -1\n",
    "    payload[\"cfg_scale\"] = random_choice([2.5, 2.6, 2.7, 2.8, 2.9, 3.0, 3.1, 3.2, 3.3, 3.4, 3.5, 3.6, 3.7, 3.8, 3.9, 4.0])\n",
    "    payload[\"steps\"] = random_choice([20, 21, 22, 23, 24, 25, 26, 27, 28, 29, 30])\n",
    "    generate(payload, savepath)"
   ]
  }
 ],
 "metadata": {
  "kernelspec": {
   "display_name": "_venv",
   "language": "python",
   "name": "python3"
  },
  "language_info": {
   "codemirror_mode": {
    "name": "ipython",
    "version": 3
   },
   "file_extension": ".py",
   "mimetype": "text/x-python",
   "name": "python",
   "nbconvert_exporter": "python",
   "pygments_lexer": "ipython3",
   "version": "3.10.10"
  }
 },
 "nbformat": 4,
 "nbformat_minor": 5
}
