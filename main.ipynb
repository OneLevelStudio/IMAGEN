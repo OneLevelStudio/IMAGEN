{
 "cells": [
  {
   "cell_type": "code",
   "execution_count": null,
   "id": "f581fcda",
   "metadata": {},
   "outputs": [],
   "source": [
    "from random import choice as random_choice\n",
    "from datetime import datetime\n",
    "import requests\n",
    "import base64\n",
    "import os\n",
    "os.makedirs(f\"_output\", exist_ok=True)\n",
    "\n",
    "payload = { \"prompt\": \"amateur photo, a young man, toned body, (asian skin:1.5), topless, grey loose sweatpants, holding black phone, taking mirror selfie, plain dark wall, dark room, soft lighting, dark aesthetic, <lora:LORA_GHOST:0.75>, skeleton mask, call of duty, black hood\", \"negative_prompt\": \"\", \"styles\": [], \"seed\": 1234567890, \"subseed\": -1, \"subseed_strength\": 0, \"seed_resize_from_h\": -1, \"seed_resize_from_w\": -1, \"sampler_name\": \"DPM++ 2M SDE\", \"scheduler\": \"Karras\", \"batch_size\": 1, \"n_iter\": 1, \"steps\": 20, \"cfg_scale\": 2.5, \"distilled_cfg_scale\": 3.5, \"width\": 896, \"height\": 1152, \"restore_faces\": False, \"tiling\": False, \"do_not_save_samples\": False, \"do_not_save_grid\": False, \"denoising_strength\": 0.7, \"s_min_uncond\": 0, \"s_churn\": 0, \"s_tmax\": 0, \"s_tmin\": 0, \"s_noise\": 1, \"override_settings\": {\"sd_model_checkpoint\": \"LVSTIFY_V5.0\", \"CLIP_stop_at_last_layers\": 1}, \"override_settings_restore_afterwards\": False, \"disable_extra_networks\": False, \"comments\": {}, \"enable_hr\": False, \"hr_scale\": 2, \"hr_upscaler\": \"Latent\", \"hr_second_pass_steps\": 0, \"hr_resize_x\": 0, \"hr_resize_y\": 0, \"hr_additional_modules\": [\"Use same choices\"], \"hr_prompt\": \"\", \"hr_negative_prompt\": \"\", \"hr_cfg\": 5, \"hr_distilled_cfg\": 3.5, \"script_name\": \"\", \"script_args\": [], \"seed_enable_extras\": True, \"alwayson_scripts\": {}, }\n",
    "def imagen(payload, savepath):\n",
    "    try:\n",
    "        with requests.post(url=url, json=payload) as req:\n",
    "            with open(savepath, \"wb\") as f:\n",
    "                f.write(base64.b64decode(req.json()[\"images\"][0]))\n",
    "    except Exception as e:\n",
    "        print(f\"⚠️ Error > {e}\")\n",
    "\n",
    "url = \"http://127.0.0.1:1234/sdapi/v1/txt2img\"\n",
    "url = \"https://eis2ut9sffdxpf-1234.proxy.runpod.net/sdapi/v1/txt2img\""
   ]
  },
  {
   "cell_type": "code",
   "execution_count": null,
   "id": "3d905840",
   "metadata": {},
   "outputs": [],
   "source": [
    "def generate_prompt():\n",
    "    prompt = random_choice([\n",
    "        # f\"{random_choice(['amateur photo', 'candid photo'])}, a man, {random_choice(['', 'muscular body', 'big body', 'dad body', 'solid body', 'athletic body', 'defined body', 'toned body', 'fit body'])}, asian skin, topless, grey loose sweatpants, taking a mirror selfie, {random_choice(['plain black wall', 'plain black room'])}, film grain, <lora:{random_choice(['LORA_GHXST_V2', 'LORA_GHXST_V1', 'LORA_GHXST_V2-000005'])}:{random_choice(['0.8', '0.9', '1.0'])}>, ghxst mask, {random_choice(['ghxst balaclava', 'ghxst helmet'])}\",\n",
    "        # f\"{random_choice(['amateur photo', 'candid photo'])}, a man, {random_choice(['', 'muscular body', 'big body', 'dad body', 'solid body', 'athletic body', 'defined body', 'toned body', 'fit body'])}, asian skin, topless, black loose sweatpants, taking a mirror selfie, {random_choice(['plain black wall', 'plain black room'])}, film grain, <lora:{random_choice(['LORA_GHXST_V2', 'LORA_GHXST_V1', 'LORA_GHXST_V2-000005'])}:{random_choice(['0.8', '0.9', '1.0'])}>, ghxst mask, {random_choice(['ghxst balaclava', 'ghxst helmet'])}\",\n",
    "        # f\"{random_choice(['amateur photo', 'candid photo'])}, a man, {random_choice(['', '', '', 'muscular body', 'big body', 'dad body', 'solid body', 'toned body', 'fit body'])}, {random_choice(['tactical shirt', 'black dress shirt', 'tight shirt', 'suit', 'shirt lift'])}, taking a mirror selfie, {random_choice(['plain black wall', 'plain black room', 'plain dark room', ''])}, film grain, <lora:{random_choice(['LORA_GHXST_V2', 'LORA_GHXST_V1', 'LORA_GHXST_V2-000005'])}:{random_choice(['0.8', '0.9', '1.0'])}>, ghxst mask, {random_choice(['ghxst balaclava', 'ghxst helmet'])}\",\n",
    "        # f\"{random_choice(['amateur photo', 'candid photo'])}, a man, {random_choice(['', '', '', 'muscular body', 'big body', 'dad body', 'solid body', 'toned body', 'fit body'])}, {random_choice(['tactical shirt', 'black dress shirt', 'tight shirt', 'suit', 'shirt lift'])}, taking a mirror selfie, {random_choice(['plain black wall', 'plain black room', 'plain dark room', ''])}, film grain, <lora:{random_choice(['LORA_GHXST_V2', 'LORA_GHXST_V1', 'LORA_GHXST_V2-000005'])}:{random_choice(['0.8', '0.9', '1.0'])}>, ghxst mask, {random_choice(['ghxst balaclava', 'ghxst helmet'])}, black gloves\",\n",
    "        f\"{random_choice(['amateur photo', 'candid photo'])}, {random_choice(['', 'portrait', 'upper body', 'full body'])}, a man, {random_choice(['', '', '', 'muscular body', 'big body', 'dad body', 'solid body', 'toned body', 'fit body'])}, {random_choice(['', 'asian skin'])}, {random_choice(['tactical shirt', 'military vest', 'dress shirt', 'tight shirt', 'tight shirt, short sleeves', 'suit', 'hoodie', 'shirt lift', 'naked', 'nude', 'topless', 'boxer'])}, {random_choice(['', 'taking a mirror selfie'])}, {random_choice(['plain black wall', 'plain black room', 'plain dark room', ''])}, film grain, <lora:{random_choice(['LORA_GHXST_V2', 'LORA_GHXST_V1', 'LORA_GHXST_V2-000005'])}:{random_choice(['0.8', '0.9', '1.0'])}>, ghxst mask, {random_choice(['ghxst balaclava', 'ghxst helmet'])}, {random_choice(['', 'black gloves'])}\",\n",
    "    ])\n",
    "    return prompt.replace(\", , , \", \", \").replace(\", , \", \", \")\n",
    "\n",
    "def generate_savepath(payload):\n",
    "    prompt = payload[\"prompt\"]\n",
    "    curtime = datetime.now().strftime('%H%M%S')\n",
    "    info = \"\"\n",
    "    # \n",
    "    if \"muscular body\" in prompt:   info += \"_muscular\"\n",
    "    elif \"big body\" in prompt:      info += \"_big\"\n",
    "    elif \"dad body\" in prompt:      info += \"_dad\"\n",
    "    elif \"solid body\" in prompt:    info += \"_solid\"\n",
    "    elif \"athletic body\" in prompt: info += \"_athletic\"\n",
    "    elif \"defined body\" in prompt:  info += \"_defined\"\n",
    "    elif \"toned body\" in prompt:    info += \"_toned\"\n",
    "    elif \"fit body\" in prompt:      info += \"_fit\"\n",
    "    else:                           info += \"_none\"\n",
    "    # \n",
    "    if \"LORA_GHXST_V1\" in prompt:           info += \"_V1F\"\n",
    "    elif \"LORA_GHXST_V2-000005\" in prompt:  info += \"_V2H\"\n",
    "    elif \"LORA_GHXST_V2\" in prompt:         info += \"_V2F\"\n",
    "    # \n",
    "    if \"1.0\" in prompt:      info += \"1.0\"\n",
    "    elif \"0.9\" in prompt:    info += \"0.9\"\n",
    "    elif \"0.8\" in prompt:    info += \"0.8\"\n",
    "    # \n",
    "    info += f\"_Cfg{payload['cfg_scale']}\"\n",
    "    info += f\"_Stp{payload['steps']}\"\n",
    "    # \n",
    "    return f\"_output/{curtime}{info}.jpg\"\n"
   ]
  },
  {
   "cell_type": "code",
   "execution_count": null,
   "id": "397b1e56",
   "metadata": {},
   "outputs": [],
   "source": [
    "generate_prompt()"
   ]
  },
  {
   "cell_type": "code",
   "execution_count": null,
   "id": "85c77fb5",
   "metadata": {},
   "outputs": [],
   "source": [
    "for i in range(1000):\n",
    "    prompt = generate_prompt()\n",
    "    payload[\"prompt\"] = prompt\n",
    "    payload[\"seed\"] = -1\n",
    "    payload[\"cfg_scale\"] = random_choice([2.5, 2.6, 2.7, 2.8, 2.9, 3.0, 3.1, 3.2, 3.3, 3.4, 3.5])\n",
    "    payload[\"steps\"] = random_choice([15, 16, 17, 18, 19, 20, 21, 22, 23, 24, 25, 26, 27, 28, 29, 30])\n",
    "    savepath = generate_savepath(payload)\n",
    "    imagen(payload, savepath)\n",
    "    if i % 100 == 0:\n",
    "        print(i)"
   ]
  },
  {
   "cell_type": "code",
   "execution_count": null,
   "id": "07127b59",
   "metadata": {},
   "outputs": [],
   "source": [
    "# RTX A4000 - 226m"
   ]
  }
 ],
 "metadata": {
  "kernelspec": {
   "display_name": "_venv",
   "language": "python",
   "name": "python3"
  },
  "language_info": {
   "codemirror_mode": {
    "name": "ipython",
    "version": 3
   },
   "file_extension": ".py",
   "mimetype": "text/x-python",
   "name": "python",
   "nbconvert_exporter": "python",
   "pygments_lexer": "ipython3",
   "version": "3.10.10"
  }
 },
 "nbformat": 4,
 "nbformat_minor": 5
}
