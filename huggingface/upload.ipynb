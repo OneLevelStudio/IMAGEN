{
 "cells": [
  {
   "cell_type": "markdown",
   "id": "6ca49e4c",
   "metadata": {},
   "source": [
    "### Environment"
   ]
  },
  {
   "cell_type": "code",
   "execution_count": null,
   "id": "f1a374a9",
   "metadata": {},
   "outputs": [],
   "source": [
    "!pip install -q ipykernel ipywidgets huggingface-hub"
   ]
  },
  {
   "cell_type": "code",
   "execution_count": null,
   "id": "b40ee2e8",
   "metadata": {},
   "outputs": [],
   "source": [
    "from huggingface_hub import HfApi, login\n",
    "import os\n",
    "os.makedirs(\"CIVITAI\", exist_ok=True)"
   ]
  },
  {
   "cell_type": "markdown",
   "id": "e10f8a8e",
   "metadata": {},
   "source": [
    "### Login to huggingface"
   ]
  },
  {
   "cell_type": "code",
   "execution_count": null,
   "id": "a94809ac",
   "metadata": {},
   "outputs": [],
   "source": [
    "login() # Try both Notebook - `login()` and Terminal - `hf auth login`"
   ]
  },
  {
   "cell_type": "markdown",
   "id": "2f1f81f3",
   "metadata": {},
   "source": [
    "### Edit variables"
   ]
  },
  {
   "cell_type": "code",
   "execution_count": null,
   "id": "9c6f778c",
   "metadata": {},
   "outputs": [],
   "source": [
    "civitai_token  = # \"3 f12 e799fd3003f7166afb4c2101cd9a\"\n",
    "hf_write_token = # \"h f_l ErmVuQOWODnhnvxpPSURXZFWtTxiiKgDd\"\n",
    "\n",
    "model_rename = \"WAI_V11.0\"\n",
    "civitai_modelid = 827184\n",
    "civitai_versionid = 1410435\n",
    "hf_folder = \"CHECKPOINT\" # \"LORA\""
   ]
  },
  {
   "cell_type": "markdown",
   "id": "f6fc4cd8",
   "metadata": {},
   "source": [
    "### Upload to huggingface"
   ]
  },
  {
   "cell_type": "code",
   "execution_count": null,
   "id": "ed177a09",
   "metadata": {},
   "outputs": [],
   "source": [
    "!wget -O CIVITAI/{model_rename}.safetensors \"https://civitai.com/api/download/models/{civitai_versionid}?&token={civitai_token}\" --content-disposition"
   ]
  },
  {
   "cell_type": "code",
   "execution_count": null,
   "id": "6ca0de11",
   "metadata": {},
   "outputs": [],
   "source": [
    "hfapi = HfApi(token=os.getenv(hf_write_token))\n",
    "hfapi.upload_file(\n",
    "    path_or_fileobj=f\"CIVITAI/{model_rename}.safetensors\",\n",
    "    path_in_repo=f\"{hf_folder}/{model_rename}.safetensors\",\n",
    "    repo_id=\"onelevelstudio/IMAGEN\",\n",
    "    repo_type=\"model\",\n",
    "    commit_message=f\"{civitai_modelid} @ {civitai_versionid}\",\n",
    ")"
   ]
  }
 ],
 "metadata": {
  "kernelspec": {
   "display_name": ".venv",
   "language": "python",
   "name": "python3"
  },
  "language_info": {
   "codemirror_mode": {
    "name": "ipython",
    "version": 3
   },
   "file_extension": ".py",
   "mimetype": "text/x-python",
   "name": "python",
   "nbconvert_exporter": "python",
   "pygments_lexer": "ipython3",
   "version": "3.12.3"
  }
 },
 "nbformat": 4,
 "nbformat_minor": 5
}
