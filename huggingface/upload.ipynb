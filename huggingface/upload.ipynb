{
 "cells": [
  {
   "cell_type": "markdown",
   "id": "6ca49e4c",
   "metadata": {},
   "source": [
    "### Environment"
   ]
  },
  {
   "cell_type": "code",
   "execution_count": null,
   "id": "f1a374a9",
   "metadata": {},
   "outputs": [],
   "source": [
    "!pip install -q ipykernel ipywidgets huggingface-hub"
   ]
  },
  {
   "cell_type": "code",
   "execution_count": null,
   "id": "63f145ab",
   "metadata": {},
   "outputs": [],
   "source": [
    "# hf auth login"
   ]
  },
  {
   "cell_type": "code",
   "execution_count": null,
   "id": "b40ee2e8",
   "metadata": {},
   "outputs": [],
   "source": [
    "from huggingface_hub import HfApi, login\n",
    "import os\n",
    "os.makedirs(\"CIVITAI\", exist_ok=True)"
   ]
  },
  {
   "cell_type": "markdown",
   "id": "2f1f81f3",
   "metadata": {},
   "source": [
    "### Edit variables"
   ]
  },
  {
   "cell_type": "code",
   "execution_count": null,
   "id": "7cf2601b",
   "metadata": {},
   "outputs": [],
   "source": [
    "civitai_token  = \"\"\n",
    "hf_write_token = \"\""
   ]
  },
  {
   "cell_type": "code",
   "execution_count": null,
   "id": "9c6f778c",
   "metadata": {},
   "outputs": [],
   "source": [
    "model_rename = \"WAI_V11\"\n",
    "civitai_modelid = 827184\n",
    "civitai_versionid = 1410435\n",
    "hf_folder = \"CHECKPOINT\"\n",
    "\n",
    "model_rename = \"LTF_V05\"\n",
    "civitai_modelid = 573152\n",
    "civitai_versionid = 1094291\n",
    "hf_folder = \"CHECKPOINT\"\n",
    "\n",
    "model_rename = \"MJX_V07\"\n",
    "civitai_modelid = 43331\n",
    "civitai_versionid = 176425\n",
    "hf_folder = \"CHECKPOINT\"\n",
    "\n",
    "model_rename = \"LORA_KoreaDL\"\n",
    "civitai_modelid = 26124\n",
    "civitai_versionid = 31284\n",
    "hf_folder = \"LORA\"\n",
    "\n",
    "model_rename = \"LORA_JapanDL\"\n",
    "civitai_modelid = 28811\n",
    "civitai_versionid = 34562\n",
    "hf_folder = \"LORA\"\n",
    "\n",
    "model_rename = \"LORA_TaiwnDL\"\n",
    "civitai_modelid = 48363\n",
    "civitai_versionid = 52974\n",
    "hf_folder = \"LORA\"\n",
    "\n",
    "model_rename = \"LORA_ChinaDL\"\n",
    "civitai_modelid = 61675\n",
    "civitai_versionid = 66172\n",
    "hf_folder = \"LORA\""
   ]
  },
  {
   "cell_type": "markdown",
   "id": "f6fc4cd8",
   "metadata": {},
   "source": [
    "### Push to huggingface"
   ]
  },
  {
   "cell_type": "code",
   "execution_count": null,
   "id": "ed177a09",
   "metadata": {},
   "outputs": [],
   "source": [
    "!wget -O CIVITAI/{model_rename}.safetensors \"https://civitai.com/api/download/models/{civitai_versionid}?&token={civitai_token}\" --content-disposition\n",
    "\n",
    "hfapi = HfApi(token=os.getenv(hf_write_token))\n",
    "hfapi.upload_file(\n",
    "    path_or_fileobj=f\"CIVITAI/{model_rename}.safetensors\",\n",
    "    path_in_repo=f\"{hf_folder}/{model_rename}.safetensors\",\n",
    "    repo_id=\"onelevelstudio/IMAGEN\",\n",
    "    repo_type=\"model\",\n",
    "    commit_message=f\"{civitai_modelid} @ {civitai_versionid}\",\n",
    ")"
   ]
  }
 ],
 "metadata": {
  "kernelspec": {
   "display_name": ".venv",
   "language": "python",
   "name": "python3"
  },
  "language_info": {
   "codemirror_mode": {
    "name": "ipython",
    "version": 3
   },
   "file_extension": ".py",
   "mimetype": "text/x-python",
   "name": "python",
   "nbconvert_exporter": "python",
   "pygments_lexer": "ipython3",
   "version": "3.12.3"
  }
 },
 "nbformat": 4,
 "nbformat_minor": 5
}
