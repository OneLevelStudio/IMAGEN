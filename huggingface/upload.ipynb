{
 "cells": [
  {
   "cell_type": "code",
   "execution_count": null,
   "id": "9c6f778c",
   "metadata": {
    "vscode": {
     "languageId": "plaintext"
    }
   },
   "outputs": [],
   "source": [
    "# git clone https://github.com/OneLevelStudio/IMAGEN\n",
    "# sudo apt update && sudo apt install python3-pip\n",
    "# pip install ipykernel ipywidgets huggingface-hub --break-system-packages\n",
    "# Edit variables below and run\n",
    "\n",
    "civitai_token = \"\"\n",
    "hf_write_token = \"\"\n",
    "\n",
    "model_rename = \"WAI_V14\"\n",
    "civitai_modelid = 827184\n",
    "civitai_versionid = 1761560\n",
    "hf_folder = \"CHECKPOINT\" # \"LORA\""
   ]
  },
  {
   "cell_type": "code",
   "execution_count": null,
   "id": "7f0ba238",
   "metadata": {
    "vscode": {
     "languageId": "plaintext"
    }
   },
   "outputs": [],
   "source": [
    "from huggingface_hub import HfApi\n",
    "import requests\n",
    "import os\n",
    "os.makedirs(\"CIVITAI\", exist_ok=True)"
   ]
  },
  {
   "cell_type": "code",
   "execution_count": null,
   "id": "ed177a09",
   "metadata": {
    "vscode": {
     "languageId": "plaintext"
    }
   },
   "outputs": [],
   "source": [
    "url = f\"https://civitai.com/api/download/models/{civitai_versionid}?&token={civitai_token}\"\n",
    "file_path = f\"CIVITAI/{model_rename}.safetensors\"\n",
    "response = requests.get(url)\n",
    "if response.status_code == 200:\n",
    "    with open(file_path, \"wb\") as f:\n",
    "        f.write(response.content)\n",
    "    print(f\"✔️ Downloaded successfully\")\n",
    "else:\n",
    "    print(f\"❌ Failed to download: {response.status_code}\")"
   ]
  },
  {
   "cell_type": "code",
   "execution_count": null,
   "id": "6ca0de11",
   "metadata": {
    "vscode": {
     "languageId": "plaintext"
    }
   },
   "outputs": [],
   "source": [
    "hfapi = HfApi(token=os.getenv(hf_write_token))\n",
    "hfapi.upload_file(\n",
    "    path_or_fileobj=\"CIVITAI/{model_rename}.safetensors\",\n",
    "    path_in_repo=\"{hf_folder}/{model_rename}.safetensors\",\n",
    "    repo_id=\"onelevelstudio/IMAGEN\",\n",
    "    repo_type=\"model\",\n",
    "    commit_message=f\"{civitai_modelid}@{civitai_versionid}\",\n",
    ")"
   ]
  }
 ],
 "metadata": {
  "language_info": {
   "name": "python"
  }
 },
 "nbformat": 4,
 "nbformat_minor": 5
}
