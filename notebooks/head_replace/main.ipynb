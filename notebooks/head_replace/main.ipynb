{
 "cells": [
  {
   "cell_type": "code",
   "execution_count": 1,
   "id": "81d61331",
   "metadata": {},
   "outputs": [],
   "source": [
    "# def cv2_read_image_ensure_4_channels(img_path):\n",
    "#     img = cv2.imread(img_path, cv2.IMREAD_UNCHANGED)\n",
    "#     if len(img.shape) == 2:  # Grayscale\n",
    "#         img = cv2.cvtColor(img, cv2.COLOR_GRAY2BGR)\n",
    "#     if img.shape[2] == 3:    # BGR\n",
    "#         img = cv2.cvtColor(img, cv2.COLOR_BGR2BGRA)\n",
    "#     return img"
   ]
  },
  {
   "cell_type": "code",
   "execution_count": 2,
   "id": "1005e437",
   "metadata": {},
   "outputs": [],
   "source": [
    "import os\n",
    "import cv2\n",
    "import math\n",
    "import numpy as np\n",
    "import mediapipe as mp\n",
    "os.makedirs(\"_output\", exist_ok=True)\n",
    "\n",
    "def expand_polygon(ls_keypoints, scale_factor):\n",
    "    # Convert keypoints to a NumPy array\n",
    "    points = np.array(ls_keypoints, dtype=np.float32)\n",
    "    # Calculate the centroid of the polygon\n",
    "    centroid = np.mean(points, axis=0)\n",
    "    # Translate points to origin (subtract centroid), scale, and translate back\n",
    "    expanded_points = centroid + (points - centroid) * scale_factor\n",
    "    # Convert back to integer coordinates for OpenCV\n",
    "    expanded_points = expanded_points.astype(np.int32)\n",
    "    return expanded_points.tolist()\n",
    "\n",
    "def get_keypoints(img_path, img_debug_path, expand_scale_factor):\n",
    "    # Read image\n",
    "    img_raw = cv2.imread(img_path)\n",
    "    img_rgb = cv2.cvtColor(img_raw, cv2.COLOR_BGR2RGB)\n",
    "    h, w, _ = img_raw.shape\n",
    "    # MediaPipe: Extract face landmarks\n",
    "    with mp.solutions.face_mesh.FaceMesh(static_image_mode=True, max_num_faces=1, refine_landmarks=True) as face_mesh:\n",
    "        results = face_mesh.process(img_rgb)\n",
    "        if results.multi_face_landmarks:\n",
    "            for facelandmarks in results.multi_face_landmarks:\n",
    "                # Landmark indices\n",
    "                ls_indices = [10,338,297,332,284,251,389,356,454,323,361,288,397,365,379,378,400,377,152,148,176,149,150,136,172,58,132,93,234,127,162,21,54,103,67,109]\n",
    "                # Get coordinates\n",
    "                ls_keypoints = []\n",
    "                for idx in ls_indices:\n",
    "                    ls_keypoints.append(\n",
    "                        (int(facelandmarks.landmark[idx].x * w), int(facelandmarks.landmark[idx].y * h)) # A keypoint (x,y)\n",
    "                    )\n",
    "                # Expand polygon\n",
    "                ls_keypoints_expanded = expand_polygon(ls_keypoints, expand_scale_factor)\n",
    "                # Draw points\n",
    "                cv2.polylines(img_raw, [np.array(ls_keypoints, dtype=np.int32)], isClosed=True, color=(0, 0, 255), thickness=3)\n",
    "                cv2.polylines(img_raw, [np.array(ls_keypoints_expanded, dtype=np.int32)], isClosed=True, color=(0, 255, 0), thickness=3)\n",
    "                for keypoint in ls_keypoints:\n",
    "                    cv2.circle(img_raw, keypoint, 4, (0, 255, 0), -1)\n",
    "                cv2.imwrite(img_debug_path, img_raw)\n",
    "                # Return\n",
    "                return ls_keypoints_expanded, h, w\n",
    "    return None # No faces detected\n",
    "\n",
    "def create_mask(ls_keypoints, img_h, img_w, img_mask_path):\n",
    "    # Convert to numpy array (required format for OpenCV fillPoly)\n",
    "    ls_keypoints = np.array(ls_keypoints, np.int32)\n",
    "    ls_keypoints = ls_keypoints.reshape((-1, 1, 2)) # shape (n,1,2)\n",
    "    # Create a blank black image (size depends on your image)\n",
    "    img_mask = np.zeros((img_h, img_w, 3), dtype=np.uint8)\n",
    "    # Fill the polygon with white\n",
    "    cv2.fillPoly(img_mask, [ls_keypoints], (255, 255, 255))\n",
    "    cv2.imwrite(img_mask_path, img_mask)"
   ]
  },
  {
   "cell_type": "code",
   "execution_count": 3,
   "id": "80602b5a",
   "metadata": {},
   "outputs": [
    {
     "name": "stderr",
     "output_type": "stream",
     "text": [
      "d:\\GITHUB\\IMAGEN\\notebooks\\head_replace\\_venv\\Lib\\site-packages\\google\\protobuf\\symbol_database.py:55: UserWarning: SymbolDatabase.GetPrototype() is deprecated. Please use message_factory.GetMessageClass() instead. SymbolDatabase.GetPrototype() will be removed soon.\n",
      "  warnings.warn('SymbolDatabase.GetPrototype() is deprecated. Please '\n"
     ]
    }
   ],
   "source": [
    "img_path = \"_test/img1.jpg\"\n",
    "ls_keypoints, img_h, img_w = get_keypoints(img_path, \"_output/img_keypoints.jpg\", expand_scale_factor=1.4)\n",
    "create_mask(ls_keypoints, img_h, img_w, \"_output/img_mask.jpg\")"
   ]
  }
 ],
 "metadata": {
  "kernelspec": {
   "display_name": "_venv",
   "language": "python",
   "name": "python3"
  },
  "language_info": {
   "codemirror_mode": {
    "name": "ipython",
    "version": 3
   },
   "file_extension": ".py",
   "mimetype": "text/x-python",
   "name": "python",
   "nbconvert_exporter": "python",
   "pygments_lexer": "ipython3",
   "version": "3.11.3"
  }
 },
 "nbformat": 4,
 "nbformat_minor": 5
}
