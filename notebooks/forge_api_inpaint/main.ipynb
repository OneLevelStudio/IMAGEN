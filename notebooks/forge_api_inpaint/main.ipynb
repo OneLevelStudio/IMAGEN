{
 "cells": [
  {
   "cell_type": "code",
   "execution_count": 3,
   "id": "1005e437",
   "metadata": {},
   "outputs": [],
   "source": [
    "import requests\n",
    "import base64\n",
    "import cv2\n",
    "import os\n",
    "os.makedirs(f\"_output\", exist_ok=True)\n",
    "\n",
    "instance_url = \"https://cl79sb3raayda4-1234.proxy.runpod.net/sdapi/v1/img2img\"\n",
    "\n",
    "img_path = \"_test/img1.jpg\"\n",
    "msk_path = \"_test/img1_mask.jpg\"\n",
    "\n",
    "with open(img_path, \"rb\") as f_img, open(msk_path, \"rb\") as f_msk:\n",
    "    img_base64 = base64.b64encode(f_img.read()).decode('utf-8')\n",
    "    msk_base64 = base64.b64encode(f_msk.read()).decode('utf-8')\n",
    "img_height, img_width, _ = cv2.imread(img_path).shape\n",
    "\n",
    "payload = {\"alwayson_scripts\": {\"API payload\": {\"args\": []}, \"Refiner\": {\"args\": [False, \"\", 0.8]}, \"Sampler\": {\"args\": [20, \"Euler a\", \"Automatic\"]}, \"Seed\": {\"args\": [-1, False, -1, 0, 0, 0]}}, \"batch_size\": 1, \"cfg_scale\": 7, \"comments\": {}, \"denoising_strength\": 0.7, \"disable_extra_networks\": False, \"distilled_cfg_scale\": 3.5, \"do_not_save_grid\": False, \"do_not_save_samples\": False, \"height\": img_height, \"hr_distilled_cfg\": 3.5, \"image_cfg_scale\": 1.5, \"init_images\": [img_base64], \"mask\": msk_base64, \"initial_noise_multiplier\": 1.0, \"inpaint_full_res\": 0, \"inpaint_full_res_padding\": 32, \"inpainting_fill\": 1, \"inpainting_mask_invert\": 0, \"mask_blur\": 4, \"mask_blur_x\": 4, \"mask_blur_y\": 4, \"mask_round\": True, \"n_iter\": 1, \"negative_prompt\": \"\", \"override_settings\": {}, \"override_settings_restore_afterwards\": True, \"prompt\": \"best quality, masterpiece, ultra high res, (photorealistic:1.4), 1girl, <lora:LORA_KoreaDL:0.7>\", \"resize_mode\": 0, \"restore_faces\": False, \"s_churn\": 0.0, \"s_min_uncond\": 0.0, \"s_noise\": 1.0, \"s_tmax\": None, \"s_tmin\": 0.0, \"sampler_name\": \"Euler a\", \"scheduler\": \"Automatic\", \"script_args\": [], \"script_name\": None, \"seed\": -1, \"seed_enable_extras\": True, \"seed_resize_from_h\": -1, \"seed_resize_from_w\": -1, \"steps\": 20, \"styles\": [], \"subseed\": -1, \"subseed_strength\": 0, \"tiling\": False, \"width\": img_width}\n",
    "\n",
    "def imagen(payload, savepath, url):\n",
    "    try:\n",
    "        with requests.post(url=url, json=payload) as req:\n",
    "            with open(savepath, \"wb\") as f:\n",
    "                f.write(base64.b64decode(req.json()[\"images\"][0]))\n",
    "    except Exception as e:\n",
    "        print(f\"⚠️ Error > {e}\")\n",
    "\n",
    "imagen(payload, \"_output/test.jpg\", instance_url)"
   ]
  }
 ],
 "metadata": {
  "kernelspec": {
   "display_name": "_venv",
   "language": "python",
   "name": "python3"
  },
  "language_info": {
   "codemirror_mode": {
    "name": "ipython",
    "version": 3
   },
   "file_extension": ".py",
   "mimetype": "text/x-python",
   "name": "python",
   "nbconvert_exporter": "python",
   "pygments_lexer": "ipython3",
   "version": "3.11.3"
  }
 },
 "nbformat": 4,
 "nbformat_minor": 5
}
